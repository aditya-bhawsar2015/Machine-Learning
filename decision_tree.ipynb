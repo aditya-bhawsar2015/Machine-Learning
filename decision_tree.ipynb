{
 "cells": [
  {
   "cell_type": "code",
   "execution_count": null,
   "id": "920124a2",
   "metadata": {},
   "outputs": [],
   "source": [
    "import pandas as pd\n",
    "import numpy as np\n",
    "from sklearn.tree import DecisionTreeClassifier\n",
    "from sklearn.tree import DecisionTreeRegressor\n",
    "from sklearn.tree import export_graphviz\n",
    "from sklearn.tree import plot_tree\n",
    "from sklearn.model_selection import train_test_split # For splitting data\n",
    "from sklearn.metrics import accuracy_score, mean_squared_error # For evaluating performance\n",
    "import matplotlib.pyplot as plt # For plotting the tree"
   ]
  },
  {
   "cell_type": "code",
   "execution_count": null,
   "id": "6f8624b2",
   "metadata": {},
   "outputs": [],
   "source": [
    "df = pd.read_csv(r\"D:\\workspace\\MachineLearning\\Cases\\Wisconsin\\BreastCancer.csv\", index_col=0)"
   ]
  },
  {
   "cell_type": "code",
   "execution_count": null,
   "id": "105ef80c",
   "metadata": {},
   "outputs": [],
   "source": [
    "X,y = df.drop('Class', axis=1), df['Class']\n",
    "X_train, X_test, y_train, y_test = train_test_split(X, y, test_size=0.3, random_state=25 , stratify=y)"
   ]
  },
  {
   "cell_type": "code",
   "execution_count": null,
   "id": "84f8e7c2",
   "metadata": {},
   "outputs": [],
   "source": [
    "dtc = DecisionTreeClassifier(random_state=25)\n",
    "dtc.fit(X_train, y_train)\n",
    "y_pred = dtc.predict(X_test)\n",
    "print(accuracy_score(y_test, y_pred))"
   ]
  },
  {
   "cell_type": "code",
   "execution_count": null,
   "id": "1a8c7e18",
   "metadata": {},
   "outputs": [],
   "source": [
    "depths = np.linspace(2,20,20).astype(int)\n",
    "scores=[]\n",
    "\n",
    "for d in depths:\n",
    "    dtc = DecisionTreeClassifier(random_state=25, max_depth=d)\n",
    "    dtc.fit(X_train, y_train)\n",
    "    y_pred = dtc.predict(X_test)\n",
    "    scores.append([d,accuracy_score(y_test, y_pred)])\n",
    "\n",
    "scores_df = pd.DataFrame(scores, columns=['Depth', 'Scores'])\n",
    "scores_df.sort_values('Scores', ascending=False)"
   ]
  },
  {
   "cell_type": "code",
   "execution_count": null,
   "id": "82e1e7a8",
   "metadata": {},
   "outputs": [],
   "source": [
    "plt.figure(figsize=(12, 8)) # Adjust figure size as needed\n",
    "plot_tree(dtc, feature_names=X_train.columns, class_names=X_train.columns, filled=True, rounded=True)\n",
    "plt.show()"
   ]
  },
  {
   "cell_type": "code",
   "execution_count": null,
   "id": "78c5cd1e",
   "metadata": {},
   "outputs": [],
   "source": []
  },
  {
   "cell_type": "code",
   "execution_count": null,
   "id": "69758486",
   "metadata": {},
   "outputs": [],
   "source": [
    "min_samples = np.linspace(2,20,20).astype(int)\n",
    "print(min_samples)\n",
    "scores=[]\n",
    "\n",
    "for min_sample in min_samples:\n",
    "    dtc = DecisionTreeClassifier(random_state=25, min_samples_split=min_sample)\n",
    "    dtc.fit(X_train, y_train)\n",
    "    y_pred = dtc.predict(X_test)\n",
    "    scores.append([min_sample,accuracy_score(y_test, y_pred)])\n",
    "\n",
    "scores_df = pd.DataFrame(scores, columns=['Min Sample Split', 'Scores'])\n",
    "scores_df.sort_values('Scores', ascending=False)"
   ]
  },
  {
   "cell_type": "code",
   "execution_count": null,
   "id": "8b125386",
   "metadata": {},
   "outputs": [],
   "source": [
    "# depths = np.linspace(2,20,20).astype(int)\n",
    "# min_samples = np.linspace(2,20,20).astype(int)\n",
    "# min_sample_leaf = np.linspace(1,20,20).astype(int)\n",
    "# scores=[]\n",
    "\n",
    "# for d in depths:\n",
    "#     for leaf in min_sample_leaf:\n",
    "#         for split in min_samples:\n",
    "#             dtc = DecisionTreeClassifier(random_state=25, max_depth=d, min_samples_leaf=leaf, min_samples_split= split)\n",
    "#             dtc.fit(X_train, y_train)\n",
    "#             y_pred = dtc.predict(X_test)\n",
    "#             scores.append([d,leaf,split,accuracy_score(y_test, y_pred)])\n",
    "\n",
    "# scores_df = pd.DataFrame(scores, columns=['Depth','Leaf','Split', 'Scores'])\n",
    "# scores_df.sort_values('Scores', ascending=False)"
   ]
  },
  {
   "cell_type": "code",
   "execution_count": null,
   "id": "c367697f",
   "metadata": {},
   "outputs": [],
   "source": [
    "depths = [2,3,4,5,6,None]\n",
    "min_samples = [2,10,20,50,75]\n",
    "min_sample_leaf = [1,10,20,50,75]\n",
    "scores=[]\n",
    "\n",
    "for d in depths:\n",
    "    for leaf in min_sample_leaf:\n",
    "        for split in min_samples:\n",
    "            dtc = DecisionTreeClassifier(random_state=25, max_depth=d, min_samples_leaf=leaf, min_samples_split= split)\n",
    "            dtc.fit(X_train, y_train)\n",
    "            y_pred = dtc.predict(X_test)\n",
    "            scores.append([d,leaf,split,accuracy_score(y_test, y_pred)])\n",
    "\n",
    "scores_df = pd.DataFrame(scores, columns=['Depth','Leaf','Split', 'Scores'])\n",
    "scores_df.sort_values('Scores', ascending=False).iloc[0]"
   ]
  },
  {
   "cell_type": "code",
   "execution_count": null,
   "id": "6ba7454e",
   "metadata": {},
   "outputs": [],
   "source": [
    "best_tree = DecisionTreeClassifier(random_state=25, max_depth=6, min_samples_leaf=1, min_samples_split= 20)\n",
    "\n",
    "best_tree.fit(X,y)"
   ]
  },
  {
   "cell_type": "code",
   "execution_count": null,
   "id": "873737c2",
   "metadata": {},
   "outputs": [],
   "source": [
    "best_tree.feature_importances_\n",
    "\n",
    "np.cumsum(best_tree.feature_importances_)"
   ]
  },
  {
   "cell_type": "code",
   "execution_count": null,
   "id": "eac67024",
   "metadata": {},
   "outputs": [],
   "source": [
    "X.columns"
   ]
  },
  {
   "cell_type": "code",
   "execution_count": null,
   "id": "13eb580f",
   "metadata": {},
   "outputs": [],
   "source": [
    "df_imp = pd.DataFrame({\n",
    "    'Feature':list(X.columns),\n",
    "    'Importance' : best_tree.feature_importances_\n",
    "})\n",
    "\n",
    "df_imp.sort_values('Importance', ascending=False)"
   ]
  },
  {
   "cell_type": "code",
   "execution_count": null,
   "id": "0dd3bc24",
   "metadata": {},
   "outputs": [],
   "source": [
    "plt.barh(df_imp['Feature'], df_imp['Importance'])\n",
    "plt.show()"
   ]
  },
  {
   "cell_type": "code",
   "execution_count": null,
   "id": "fe5c3764",
   "metadata": {},
   "outputs": [],
   "source": [
    "plt.figure(figsize=(35, 15))\n",
    "plot_tree(best_tree, feature_names=list(X.columns), class_names=['Benign', 'Malignant'], filled=True, rounded=True)\n",
    "plt.show()"
   ]
  },
  {
   "cell_type": "code",
   "execution_count": null,
   "id": "27b95d2f",
   "metadata": {},
   "outputs": [],
   "source": [
    "depths = [2,3,4,5,6,None]\n",
    "min_samples = [2,10,20,50,75]\n",
    "min_sample_leaf = [1,10,20,50,75]\n",
    "scores=[]\n",
    "X_train = X_train.drop(['SEpith', 'Mitoses','BChromatin', 'MargAdh'],axis=1)\n",
    "X_test = X_test.drop(['SEpith', 'Mitoses', 'BChromatin', 'MargAdh'],axis=1)\n",
    "for d in depths:\n",
    "    for leaf in min_sample_leaf:\n",
    "        for split in min_samples:\n",
    "            dtc = DecisionTreeClassifier(random_state=25, max_depth=d, min_samples_leaf=leaf, min_samples_split= split)\n",
    "            dtc.fit(X_train, y_train)\n",
    "            y_pred = dtc.predict(X_test)\n",
    "            scores.append([d,leaf,split,accuracy_score(y_test, y_pred)])\n",
    "\n",
    "scores_df = pd.DataFrame(scores, columns=['Depth','Leaf','Split', 'Scores'])\n",
    "scores_df.sort_values('Scores', ascending=False).iloc[0]"
   ]
  },
  {
   "cell_type": "code",
   "execution_count": null,
   "id": "5c991449",
   "metadata": {},
   "outputs": [],
   "source": [
    "0.961905 - 0.952381"
   ]
  },
  {
   "cell_type": "code",
   "execution_count": null,
   "id": "d82a493c",
   "metadata": {},
   "outputs": [],
   "source": [
    "from sklearn.compose import make_column_selector, make_column_transformer\n",
    "from sklearn.preprocessing import OneHotEncoder\n",
    "\n",
    "\n",
    "df = pd.read_csv(r'D:\\workspace\\MachineLearning\\Cases\\human-resources-analytics\\HR_comma_sep.csv')\n",
    "X,y = df.drop('left', axis=1), df['left']\n",
    "X_train, X_test, y_train, y_test = train_test_split(X, y, test_size=0.3, random_state=25 , stratify=y)\n",
    "ohe = OneHotEncoder(sparse_output=False, drop='first').set_output(transform='pandas')\n",
    "ct = make_column_transformer((ohe, make_column_selector(dtype_include=object)),\n",
    "                             (\"passthrough\",make_column_selector(dtype_exclude=object)),\n",
    "                             verbose_feature_names_out=False)\n",
    "ct = ct.set_output(transform='pandas')\n",
    "X_train_ohe = ct.fit_transform(X_train)\n",
    "X_test_ohe = ct.transform(X_test)\n",
    "depths = [2,3,4,5,6,None]\n",
    "min_samples = [2,10,20,50,75, 100, 500, 1000]\n",
    "min_sample_leaf = [1,10,20,50,75, 100, 500]\n",
    "scores=[]\n",
    "for d in depths:\n",
    "    for leaf in min_sample_leaf:\n",
    "        for split in min_samples:\n",
    "            dtc = DecisionTreeClassifier(random_state=25, max_depth=d, min_samples_leaf=leaf, min_samples_split= split)\n",
    "            dtc.fit(X_train_ohe, y_train)\n",
    "            y_pred = dtc.predict(X_test_ohe)\n",
    "            scores.append([d,leaf,split,accuracy_score(y_test, y_pred)])\n",
    "\n",
    "scores_df = pd.DataFrame(scores, columns=['Depth','Leaf','Split', 'Scores'])\n",
    "scores_df.sort_values('Scores', ascending=False)"
   ]
  },
  {
   "cell_type": "code",
   "execution_count": null,
   "id": "95512bd9",
   "metadata": {},
   "outputs": [],
   "source": [
    "best_tree = DecisionTreeClassifier(random_state=25, max_depth=None, min_samples_leaf=1, min_samples_split= 75)\n",
    "X_ct = ct.transform(X)\n",
    "best_tree.fit(X_ct,y)"
   ]
  },
  {
   "cell_type": "code",
   "execution_count": null,
   "id": "2eb87808",
   "metadata": {},
   "outputs": [],
   "source": [
    "best_tree.feature_importances_"
   ]
  },
  {
   "cell_type": "code",
   "execution_count": null,
   "id": "77779a63",
   "metadata": {},
   "outputs": [],
   "source": [
    "X.columns"
   ]
  },
  {
   "cell_type": "code",
   "execution_count": null,
   "id": "4cd0f3b2",
   "metadata": {},
   "outputs": [],
   "source": [
    "df_imp = pd.DataFrame({\n",
    "    'Feature':list(X_ct.columns),\n",
    "    'Importance' : best_tree.feature_importances_\n",
    "})\n",
    "\n",
    "df_imp.sort_values('Importance', ascending=False)"
   ]
  },
  {
   "cell_type": "code",
   "execution_count": null,
   "id": "be3b9aee",
   "metadata": {},
   "outputs": [],
   "source": [
    "plt.barh(df_imp['Feature'], df_imp['Importance'])\n",
    "plt.show()"
   ]
  },
  {
   "cell_type": "code",
   "execution_count": null,
   "id": "8202ca54",
   "metadata": {},
   "outputs": [],
   "source": [
    "plt.figure(figsize=(150, 150))\n",
    "plot_tree(best_tree, feature_names=list(X_ct.columns), class_names=['0','1'],  filled=True, rounded=True)\n",
    "plt.show()"
   ]
  },
  {
   "cell_type": "code",
   "execution_count": null,
   "id": "30a97933",
   "metadata": {},
   "outputs": [],
   "source": []
  }
 ],
 "metadata": {
  "kernelspec": {
   "display_name": "Python 3",
   "language": "python",
   "name": "python3"
  },
  "language_info": {
   "codemirror_mode": {
    "name": "ipython",
    "version": 3
   },
   "file_extension": ".py",
   "mimetype": "text/x-python",
   "name": "python",
   "nbconvert_exporter": "python",
   "pygments_lexer": "ipython3",
   "version": "3.12.7"
  }
 },
 "nbformat": 4,
 "nbformat_minor": 5
}
