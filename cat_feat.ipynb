{
 "cells": [
  {
   "cell_type": "code",
   "execution_count": 34,
   "id": "3972b2ee",
   "metadata": {},
   "outputs": [],
   "source": [
    "from catboost import CatBoostClassifier, CatBoostRegressor\n",
    "from sklearn.model_selection import train_test_split\n",
    "from sklearn.datasets import fetch_openml\n",
    "from sklearn.metrics import accuracy_score, root_mean_squared_log_error\n",
    "import pandas as pd\n",
    "from sklearn.preprocessing import LabelEncoder, MinMaxScaler"
   ]
  },
  {
   "cell_type": "code",
   "execution_count": 13,
   "id": "003eab06",
   "metadata": {},
   "outputs": [],
   "source": [
    "df = pd.read_csv(r'D:\\workspace\\MachineLearning\\Kaggle_Competition_Data\\train.csv')\n",
    "df['Sex'] = LabelEncoder().fit_transform(df['Sex'])\n",
    "\n"
   ]
  },
  {
   "cell_type": "code",
   "execution_count": 23,
   "id": "c1922c56",
   "metadata": {},
   "outputs": [],
   "source": [
    "X = df.drop('Calories', axis=1)\n",
    "y = df['Calories']\n",
    "\n"
   ]
  },
  {
   "cell_type": "code",
   "execution_count": 36,
   "id": "bb303635",
   "metadata": {},
   "outputs": [
    {
     "name": "stdout",
     "output_type": "stream",
     "text": [
      "\n",
      "Training the CatBoost model...\n",
      "0.06282686019606715\n",
      "Feature: Duration, Importance: 63.2406\n",
      "Feature: Heart_Rate, Importance: 20.6317\n",
      "Feature: Age, Importance: 11.7722\n",
      "Feature: Sex, Importance: 2.5929\n",
      "Feature: Weight, Importance: 1.2802\n",
      "Feature: Body_Temp, Importance: 0.4236\n",
      "Feature: Height, Importance: 0.0540\n",
      "Feature: id, Importance: 0.0049\n"
     ]
    }
   ],
   "source": [
    "\n",
    "\n",
    "\n",
    "\n",
    "\n",
    "# Convert target variable to numerical (0 and 1)\n",
    "\n",
    "# 2. Split the data into training and testing sets\n",
    "X_train, X_test, y_train, y_test = train_test_split(X, y, test_size=0.3, random_state=25, stratify=y)\n",
    "\n",
    "\n",
    "categorical_features_indices = [col for col in X_train.columns if X_train[col].dtype == 'object']\n",
    "\n",
    "# 3. Initialize and train the CatBoostClassifier\n",
    "model = CatBoostRegressor(\n",
    "    verbose=0,          # Set to 0 for no output, 1 for progress updates\n",
    "    cat_features=categorical_features_indices  # Specify the categorical feature indices\n",
    ")\n",
    "\n",
    "print(\"\\nTraining the CatBoost model...\")\n",
    "model.fit(X_train, y_train, eval_set=(X_test, y_test), early_stopping_rounds=10)\n",
    "\n",
    "# 4. Make predictions on the test set\n",
    "y_pred = model.predict(X_test)\n",
    "\n",
    "print(root_mean_squared_log_error(y_test,y_pred))\n",
    "\n",
    "\n",
    "\n",
    "\n",
    "# 6. (Optional) Explore feature importances\n",
    "feature_importances = model.get_feature_importance()\n",
    "feature_names = X_train.columns\n",
    "for importance, name in sorted(zip(feature_importances, feature_names), reverse=True):\n",
    "    print(f\"Feature: {name}, Importance: {importance:.4f}\")"
   ]
  },
  {
   "cell_type": "code",
   "execution_count": 27,
   "id": "d1241b81",
   "metadata": {},
   "outputs": [
    {
     "data": {
      "text/plain": [
       "array([ 96.14832983,  49.76332414,  75.69244703, ..., 190.5497829 ,\n",
       "       190.22927459, 160.06885344])"
      ]
     },
     "execution_count": 27,
     "metadata": {},
     "output_type": "execute_result"
    }
   ],
   "source": [
    "y_pred"
   ]
  },
  {
   "cell_type": "code",
   "execution_count": null,
   "id": "0f786edf",
   "metadata": {},
   "outputs": [],
   "source": []
  }
 ],
 "metadata": {
  "kernelspec": {
   "display_name": "base",
   "language": "python",
   "name": "python3"
  },
  "language_info": {
   "codemirror_mode": {
    "name": "ipython",
    "version": 3
   },
   "file_extension": ".py",
   "mimetype": "text/x-python",
   "name": "python",
   "nbconvert_exporter": "python",
   "pygments_lexer": "ipython3",
   "version": "3.12.7"
  }
 },
 "nbformat": 4,
 "nbformat_minor": 5
}
