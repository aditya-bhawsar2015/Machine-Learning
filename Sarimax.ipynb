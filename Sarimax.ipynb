{
 "cells": [
  {
   "cell_type": "code",
   "execution_count": null,
   "id": "1ccab772",
   "metadata": {},
   "outputs": [
    {
     "name": "stdout",
     "output_type": "stream",
     "text": [
      "Collecting pmdarima\n",
      "  Downloading pmdarima-2.0.4-cp38-cp38-win_amd64.whl (615 kB)\n",
      "Requirement already satisfied: urllib3 in c:\\programdata\\anaconda3\\lib\\site-packages (from pmdarima) (1.25.11)\n",
      "Requirement already satisfied: scipy>=1.3.2 in c:\\programdata\\anaconda3\\lib\\site-packages (from pmdarima) (1.5.2)\n",
      "Requirement already satisfied: numpy>=1.21.2 in c:\\users\\dai.studentsdc\\appdata\\roaming\\python\\python38\\site-packages (from pmdarima) (1.24.4)\n",
      "Requirement already satisfied: scikit-learn>=0.22 in c:\\users\\dai.studentsdc\\appdata\\roaming\\python\\python38\\site-packages (from pmdarima) (1.3.2)\n",
      "Requirement already satisfied: packaging>=17.1 in c:\\users\\dai.studentsdc\\appdata\\roaming\\python\\python38\\site-packages (from pmdarima) (25.0)\n",
      "Requirement already satisfied: Cython!=0.29.18,!=0.29.31,>=0.29 in c:\\programdata\\anaconda3\\lib\\site-packages (from pmdarima) (0.29.21)\n",
      "Requirement already satisfied: setuptools!=50.0.0,>=38.6.0 in c:\\programdata\\anaconda3\\lib\\site-packages (from pmdarima) (50.3.1.post20201107)\n",
      "Requirement already satisfied: pandas>=0.19 in c:\\users\\dai.studentsdc\\appdata\\roaming\\python\\python38\\site-packages (from pmdarima) (2.0.3)\n",
      "Requirement already satisfied: statsmodels>=0.13.2 in c:\\users\\dai.studentsdc\\appdata\\roaming\\python\\python38\\site-packages (from pmdarima) (0.14.1)\n",
      "Requirement already satisfied: joblib>=0.11 in c:\\users\\dai.studentsdc\\appdata\\roaming\\python\\python38\\site-packages (from pmdarima) (1.4.2)\n",
      "Requirement already satisfied: threadpoolctl>=2.0.0 in c:\\users\\dai.studentsdc\\appdata\\roaming\\python\\python38\\site-packages (from scikit-learn>=0.22->pmdarima) (3.5.0)\n",
      "Requirement already satisfied: python-dateutil>=2.8.2 in c:\\users\\dai.studentsdc\\appdata\\roaming\\python\\python38\\site-packages (from pandas>=0.19->pmdarima) (2.9.0.post0)\n",
      "Requirement already satisfied: tzdata>=2022.1 in c:\\programdata\\anaconda3\\lib\\site-packages (from pandas>=0.19->pmdarima) (2025.2)\n",
      "Requirement already satisfied: pytz>=2020.1 in c:\\programdata\\anaconda3\\lib\\site-packages (from pandas>=0.19->pmdarima) (2020.1)\n",
      "Requirement already satisfied: patsy>=0.5.4 in c:\\users\\dai.studentsdc\\appdata\\roaming\\python\\python38\\site-packages (from statsmodels>=0.13.2->pmdarima) (1.0.1)\n",
      "Requirement already satisfied: six>=1.5 in c:\\programdata\\anaconda3\\lib\\site-packages (from python-dateutil>=2.8.2->pandas>=0.19->pmdarima) (1.15.0)\n",
      "Installing collected packages: pmdarima\n",
      "Successfully installed pmdarima-2.0.4\n"
     ]
    }
   ],
   "source": [
    "# !pip install pmdarima"
   ]
  },
  {
   "cell_type": "code",
   "execution_count": 7,
   "id": "fef9f52c",
   "metadata": {},
   "outputs": [],
   "source": [
    "import pandas as pd\n",
    "import numpy as np\n",
    "import matplotlib.pyplot as plt\n",
    "import seaborn as sns\n",
    "from statsmodels.graphics.tsaplots import plot_acf\n",
    "# from statsmodels.tsa.api import Holt\n",
    "from sklearn.metrics import mean_squared_error\n",
    "from tqdm import tqdm\n",
    "from statsmodels.tsa.arima.model import ARIMA\n",
    "from pmdarima.arima import auto_arima"
   ]
  },
  {
   "cell_type": "code",
   "execution_count": 2,
   "id": "890527b2",
   "metadata": {},
   "outputs": [],
   "source": [
    "df = pd.read_csv('D:\\workspace\\MachineLearning\\Datasets\\Datasets\\FMAC-HPI_24420.csv')\n",
    "y = df['NSA Value']\n",
    "y_train = y.iloc[:-12]\n",
    "y_test = y.iloc[-12:]"
   ]
  },
  {
   "cell_type": "code",
   "execution_count": 3,
   "id": "7283b1a0",
   "metadata": {},
   "outputs": [
    {
     "data": {
      "text/plain": [
       "((531,), (519,), (12,))"
      ]
     },
     "execution_count": 3,
     "metadata": {},
     "output_type": "execute_result"
    }
   ],
   "source": [
    "y.shape, y_train.shape, y_test.shape"
   ]
  },
  {
   "cell_type": "code",
   "execution_count": 5,
   "id": "756cf5da",
   "metadata": {},
   "outputs": [
    {
     "name": "stdout",
     "output_type": "stream",
     "text": [
      "5.985054135274442\n"
     ]
    }
   ],
   "source": [
    "model = ARIMA(y_train, order=(1,1,1), seasonal_order=(1,1,1,12))\n",
    "model_fit = model.fit() \n",
    "y_pred = model_fit.predict(start=len(y_train), end=len(y_train)+len(y_test)-1)\n",
    "print(np.sqrt(mean_squared_error(y_test,y_pred)))"
   ]
  },
  {
   "cell_type": "markdown",
   "id": "4a01c3ca",
   "metadata": {},
   "source": [
    "Auto ARIMA"
   ]
  },
  {
   "cell_type": "code",
   "execution_count": 8,
   "id": "b9dc6ea9",
   "metadata": {},
   "outputs": [],
   "source": [
    "import warnings\n",
    "warnings.filterwarnings(\"ignore\")"
   ]
  },
  {
   "cell_type": "markdown",
   "id": "df326371",
   "metadata": {},
   "source": [
    "#### ARIMA"
   ]
  },
  {
   "cell_type": "code",
   "execution_count": 12,
   "id": "cf9e9f4f",
   "metadata": {},
   "outputs": [
    {
     "name": "stdout",
     "output_type": "stream",
     "text": [
      "Performing stepwise search to minimize aic\n",
      " ARIMA(2,1,2)(0,0,0)[0] intercept   : AIC=-258.744, Time=0.77 sec\n",
      " ARIMA(0,1,0)(0,0,0)[0] intercept   : AIC=1625.721, Time=0.02 sec\n",
      " ARIMA(1,1,0)(0,0,0)[0] intercept   : AIC=545.901, Time=0.13 sec\n",
      " ARIMA(0,1,1)(0,0,0)[0] intercept   : AIC=inf, Time=0.39 sec\n",
      " ARIMA(0,1,0)(0,0,0)[0]             : AIC=1668.139, Time=0.04 sec\n",
      " ARIMA(1,1,2)(0,0,0)[0] intercept   : AIC=-211.845, Time=0.53 sec\n",
      " ARIMA(2,1,1)(0,0,0)[0] intercept   : AIC=inf, Time=1.32 sec\n",
      " ARIMA(3,1,2)(0,0,0)[0] intercept   : AIC=inf, Time=1.12 sec\n",
      " ARIMA(2,1,3)(0,0,0)[0] intercept   : AIC=inf, Time=1.45 sec\n",
      " ARIMA(1,1,1)(0,0,0)[0] intercept   : AIC=inf, Time=0.74 sec\n",
      " ARIMA(1,1,3)(0,0,0)[0] intercept   : AIC=inf, Time=1.24 sec\n",
      " ARIMA(3,1,1)(0,0,0)[0] intercept   : AIC=inf, Time=0.46 sec\n",
      " ARIMA(3,1,3)(0,0,0)[0] intercept   : AIC=inf, Time=1.47 sec\n",
      " ARIMA(2,1,2)(0,0,0)[0]             : AIC=-254.857, Time=0.48 sec\n",
      "\n",
      "Best model:  ARIMA(2,1,2)(0,0,0)[0] intercept\n",
      "Total fit time: 10.176 seconds\n"
     ]
    }
   ],
   "source": [
    "model = auto_arima(y_train, trace=True, error_action='ignore', suppress_warnings=True)"
   ]
  },
  {
   "cell_type": "code",
   "execution_count": 15,
   "id": "560fe45c",
   "metadata": {},
   "outputs": [
    {
     "data": {
      "text/plain": [
       "4.213381395901075"
      ]
     },
     "execution_count": 15,
     "metadata": {},
     "output_type": "execute_result"
    }
   ],
   "source": [
    "y_pred = model.predict(n_periods=len(y_test))\n",
    "y_pred\n",
    "np.sqrt(mean_squared_error(y_test,y_pred))"
   ]
  },
  {
   "cell_type": "markdown",
   "id": "e1df36f2",
   "metadata": {},
   "source": [
    "#### SARIMA"
   ]
  },
  {
   "cell_type": "code",
   "execution_count": 11,
   "id": "cb16d116",
   "metadata": {},
   "outputs": [
    {
     "name": "stdout",
     "output_type": "stream",
     "text": [
      "Performing stepwise search to minimize aic\n",
      " ARIMA(2,1,2)(1,0,1)[12] intercept   : AIC=-334.126, Time=2.65 sec\n",
      " ARIMA(0,1,0)(0,0,0)[12] intercept   : AIC=1625.721, Time=0.04 sec\n",
      " ARIMA(1,1,0)(1,0,0)[12] intercept   : AIC=301.267, Time=0.69 sec\n",
      " ARIMA(0,1,1)(0,0,1)[12] intercept   : AIC=inf, Time=1.30 sec\n",
      " ARIMA(0,1,0)(0,0,0)[12]             : AIC=1668.139, Time=0.03 sec\n",
      " ARIMA(2,1,2)(0,0,1)[12] intercept   : AIC=inf, Time=2.33 sec\n",
      " ARIMA(2,1,2)(1,0,0)[12] intercept   : AIC=-305.079, Time=2.33 sec\n",
      " ARIMA(2,1,2)(2,0,1)[12] intercept   : AIC=-321.627, Time=5.19 sec\n",
      " ARIMA(2,1,2)(1,0,2)[12] intercept   : AIC=-334.781, Time=6.28 sec\n",
      " ARIMA(2,1,2)(0,0,2)[12] intercept   : AIC=inf, Time=5.01 sec\n",
      " ARIMA(2,1,2)(2,0,2)[12] intercept   : AIC=-328.625, Time=6.44 sec\n",
      " ARIMA(1,1,2)(1,0,2)[12] intercept   : AIC=-338.157, Time=5.47 sec\n",
      " ARIMA(1,1,2)(0,0,2)[12] intercept   : AIC=inf, Time=4.25 sec\n",
      " ARIMA(1,1,2)(1,0,1)[12] intercept   : AIC=-336.084, Time=2.55 sec\n",
      " ARIMA(1,1,2)(2,0,2)[12] intercept   : AIC=-336.185, Time=5.99 sec\n",
      " ARIMA(1,1,2)(0,0,1)[12] intercept   : AIC=inf, Time=2.50 sec\n",
      " ARIMA(1,1,2)(2,0,1)[12] intercept   : AIC=-338.068, Time=4.99 sec\n",
      " ARIMA(0,1,2)(1,0,2)[12] intercept   : AIC=55.303, Time=3.36 sec\n",
      " ARIMA(1,1,1)(1,0,2)[12] intercept   : AIC=inf, Time=4.45 sec\n",
      " ARIMA(1,1,3)(1,0,2)[12] intercept   : AIC=inf, Time=6.38 sec\n",
      " ARIMA(0,1,1)(1,0,2)[12] intercept   : AIC=inf, Time=3.39 sec\n",
      " ARIMA(0,1,3)(1,0,2)[12] intercept   : AIC=inf, Time=5.69 sec\n",
      " ARIMA(2,1,1)(1,0,2)[12] intercept   : AIC=inf, Time=4.90 sec\n",
      " ARIMA(2,1,3)(1,0,2)[12] intercept   : AIC=inf, Time=7.58 sec\n",
      " ARIMA(1,1,2)(1,0,2)[12]             : AIC=inf, Time=4.16 sec\n",
      "\n",
      "Best model:  ARIMA(1,1,2)(1,0,2)[12] intercept\n",
      "Total fit time: 98.041 seconds\n"
     ]
    }
   ],
   "source": [
    "s_model = auto_arima(y_train, trace=True, error_action='ignore', suppress_warnings=True, seasonal=True, m=12)"
   ]
  },
  {
   "cell_type": "code",
   "execution_count": 16,
   "id": "56394c93",
   "metadata": {},
   "outputs": [
    {
     "data": {
      "text/plain": [
       "4.47525471878756"
      ]
     },
     "execution_count": 16,
     "metadata": {},
     "output_type": "execute_result"
    }
   ],
   "source": [
    "y_pred = s_model.predict(n_periods=len(y_test))\n",
    "y_pred\n",
    "np.sqrt(mean_squared_error(y_test, y_pred))"
   ]
  },
  {
   "cell_type": "markdown",
   "id": "2c308a25",
   "metadata": {},
   "source": [
    "ARIMA and SARIMA on AirPassengers and MilkProuction"
   ]
  },
  {
   "cell_type": "code",
   "execution_count": 18,
   "id": "4c4678de",
   "metadata": {},
   "outputs": [
    {
     "data": {
      "text/plain": [
       "((144,), (132,), (12,))"
      ]
     },
     "execution_count": 18,
     "metadata": {},
     "output_type": "execute_result"
    }
   ],
   "source": [
    "air = pd.read_csv(r'D:\\workspace\\MachineLearning\\Datasets\\Datasets\\AirPassengers.csv')\n",
    "air.head()\n",
    "y = air['Passengers']\n",
    "y_train = y.iloc[:-12]\n",
    "y_test = y.iloc[-12:]\n",
    "y.shape, y_train.shape, y_test.shape"
   ]
  },
  {
   "cell_type": "code",
   "execution_count": 19,
   "id": "ad015a64",
   "metadata": {},
   "outputs": [
    {
     "name": "stdout",
     "output_type": "stream",
     "text": [
      "21.182248831856928\n"
     ]
    }
   ],
   "source": [
    "model = ARIMA(y_train, order=(1,1,1), seasonal_order=(1,1,1,12))\n",
    "model_fit = model.fit() \n",
    "y_pred = model_fit.predict(start=len(y_train), end=len(y_train)+len(y_test)-1)\n",
    "print(np.sqrt(mean_squared_error(y_test,y_pred)))"
   ]
  },
  {
   "cell_type": "code",
   "execution_count": 20,
   "id": "7622f2d5",
   "metadata": {},
   "outputs": [
    {
     "name": "stdout",
     "output_type": "stream",
     "text": [
      "Performing stepwise search to minimize aic\n",
      " ARIMA(2,1,2)(0,0,0)[0] intercept   : AIC=1218.683, Time=0.36 sec\n",
      " ARIMA(0,1,0)(0,0,0)[0] intercept   : AIC=1277.589, Time=0.03 sec\n",
      " ARIMA(1,1,0)(0,0,0)[0] intercept   : AIC=1268.313, Time=0.06 sec\n",
      " ARIMA(0,1,1)(0,0,0)[0] intercept   : AIC=1264.738, Time=0.08 sec\n",
      " ARIMA(0,1,0)(0,0,0)[0]             : AIC=1276.259, Time=0.01 sec\n",
      " ARIMA(1,1,2)(0,0,0)[0] intercept   : AIC=inf, Time=0.27 sec\n",
      " ARIMA(2,1,1)(0,0,0)[0] intercept   : AIC=inf, Time=0.25 sec\n",
      " ARIMA(3,1,2)(0,0,0)[0] intercept   : AIC=inf, Time=0.35 sec\n",
      " ARIMA(2,1,3)(0,0,0)[0] intercept   : AIC=inf, Time=0.47 sec\n",
      " ARIMA(1,1,1)(0,0,0)[0] intercept   : AIC=1258.440, Time=0.15 sec\n",
      " ARIMA(1,1,3)(0,0,0)[0] intercept   : AIC=inf, Time=0.41 sec\n",
      " ARIMA(3,1,1)(0,0,0)[0] intercept   : AIC=inf, Time=0.22 sec\n",
      " ARIMA(3,1,3)(0,0,0)[0] intercept   : AIC=inf, Time=0.53 sec\n",
      " ARIMA(2,1,2)(0,0,0)[0]             : AIC=1225.563, Time=0.26 sec\n",
      "\n",
      "Best model:  ARIMA(2,1,2)(0,0,0)[0] intercept\n",
      "Total fit time: 3.476 seconds\n"
     ]
    }
   ],
   "source": [
    "model = auto_arima(y_train, trace=True, error_action='ignore', suppress_warnings=True)"
   ]
  },
  {
   "cell_type": "code",
   "execution_count": 21,
   "id": "bee0f887",
   "metadata": {},
   "outputs": [
    {
     "data": {
      "text/plain": [
       "53.290515703627634"
      ]
     },
     "execution_count": 21,
     "metadata": {},
     "output_type": "execute_result"
    }
   ],
   "source": [
    "y_pred = model.predict(n_periods=len(y_test))\n",
    "np.sqrt(mean_squared_error(y_test,y_pred))"
   ]
  },
  {
   "cell_type": "code",
   "execution_count": 22,
   "id": "d45f4dae",
   "metadata": {},
   "outputs": [
    {
     "name": "stdout",
     "output_type": "stream",
     "text": [
      "Performing stepwise search to minimize aic\n",
      " ARIMA(2,0,2)(1,1,1)[12] intercept   : AIC=inf, Time=1.63 sec\n",
      " ARIMA(0,0,0)(0,1,0)[12] intercept   : AIC=1022.234, Time=0.03 sec\n",
      " ARIMA(1,0,0)(1,1,0)[12] intercept   : AIC=906.857, Time=0.34 sec\n",
      " ARIMA(0,0,1)(0,1,1)[12] intercept   : AIC=963.555, Time=0.30 sec\n",
      " ARIMA(0,0,0)(0,1,0)[12]             : AIC=1192.711, Time=0.03 sec\n",
      " ARIMA(1,0,0)(0,1,0)[12] intercept   : AIC=907.180, Time=0.12 sec\n",
      " ARIMA(1,0,0)(2,1,0)[12] intercept   : AIC=908.543, Time=0.85 sec\n",
      " ARIMA(1,0,0)(1,1,1)[12] intercept   : AIC=inf, Time=0.92 sec\n",
      " ARIMA(1,0,0)(0,1,1)[12] intercept   : AIC=907.120, Time=0.30 sec\n",
      " ARIMA(1,0,0)(2,1,1)[12] intercept   : AIC=inf, Time=2.24 sec\n",
      " ARIMA(0,0,0)(1,1,0)[12] intercept   : AIC=1021.611, Time=0.25 sec\n",
      " ARIMA(2,0,0)(1,1,0)[12] intercept   : AIC=906.396, Time=0.45 sec\n",
      " ARIMA(2,0,0)(0,1,0)[12] intercept   : AIC=906.075, Time=0.14 sec\n",
      " ARIMA(2,0,0)(0,1,1)[12] intercept   : AIC=906.713, Time=0.31 sec\n",
      " ARIMA(2,0,0)(1,1,1)[12] intercept   : AIC=inf, Time=0.74 sec\n",
      " ARIMA(3,0,0)(0,1,0)[12] intercept   : AIC=905.686, Time=0.16 sec\n",
      " ARIMA(3,0,0)(1,1,0)[12] intercept   : AIC=906.124, Time=0.60 sec\n",
      " ARIMA(3,0,0)(0,1,1)[12] intercept   : AIC=906.388, Time=0.49 sec\n",
      " ARIMA(3,0,0)(1,1,1)[12] intercept   : AIC=906.035, Time=1.03 sec\n",
      " ARIMA(4,0,0)(0,1,0)[12] intercept   : AIC=907.453, Time=0.31 sec\n",
      " ARIMA(3,0,1)(0,1,0)[12] intercept   : AIC=907.583, Time=0.31 sec\n",
      " ARIMA(2,0,1)(0,1,0)[12] intercept   : AIC=906.399, Time=0.26 sec\n",
      " ARIMA(4,0,1)(0,1,0)[12] intercept   : AIC=909.320, Time=0.60 sec\n",
      " ARIMA(3,0,0)(0,1,0)[12]             : AIC=911.907, Time=0.11 sec\n",
      "\n",
      "Best model:  ARIMA(3,0,0)(0,1,0)[12] intercept\n",
      "Total fit time: 12.579 seconds\n"
     ]
    }
   ],
   "source": [
    "s_model = auto_arima(y_train, trace=True, error_action='ignore', suppress_warnings=True, seasonal=True, m=12)"
   ]
  },
  {
   "cell_type": "code",
   "execution_count": 23,
   "id": "4aad5c68",
   "metadata": {},
   "outputs": [
    {
     "data": {
      "text/plain": [
       "18.536468633179176"
      ]
     },
     "execution_count": 23,
     "metadata": {},
     "output_type": "execute_result"
    }
   ],
   "source": [
    "y_pred = s_model.predict(n_periods=len(y_test))\n",
    "y_pred\n",
    "np.sqrt(mean_squared_error(y_test, y_pred))"
   ]
  },
  {
   "cell_type": "markdown",
   "id": "5063fd62",
   "metadata": {},
   "source": [
    "ARIMA and SARIMA on MilkProduction"
   ]
  },
  {
   "cell_type": "code",
   "execution_count": 25,
   "id": "8fac4eb7",
   "metadata": {},
   "outputs": [
    {
     "data": {
      "text/html": [
       "<div>\n",
       "<style scoped>\n",
       "    .dataframe tbody tr th:only-of-type {\n",
       "        vertical-align: middle;\n",
       "    }\n",
       "\n",
       "    .dataframe tbody tr th {\n",
       "        vertical-align: top;\n",
       "    }\n",
       "\n",
       "    .dataframe thead th {\n",
       "        text-align: right;\n",
       "    }\n",
       "</style>\n",
       "<table border=\"1\" class=\"dataframe\">\n",
       "  <thead>\n",
       "    <tr style=\"text-align: right;\">\n",
       "      <th></th>\n",
       "      <th>Month</th>\n",
       "      <th>Milk</th>\n",
       "    </tr>\n",
       "  </thead>\n",
       "  <tbody>\n",
       "    <tr>\n",
       "      <th>0</th>\n",
       "      <td>1962-01</td>\n",
       "      <td>589</td>\n",
       "    </tr>\n",
       "    <tr>\n",
       "      <th>1</th>\n",
       "      <td>1962-02</td>\n",
       "      <td>561</td>\n",
       "    </tr>\n",
       "    <tr>\n",
       "      <th>2</th>\n",
       "      <td>1962-03</td>\n",
       "      <td>640</td>\n",
       "    </tr>\n",
       "    <tr>\n",
       "      <th>3</th>\n",
       "      <td>1962-04</td>\n",
       "      <td>656</td>\n",
       "    </tr>\n",
       "    <tr>\n",
       "      <th>4</th>\n",
       "      <td>1962-05</td>\n",
       "      <td>727</td>\n",
       "    </tr>\n",
       "  </tbody>\n",
       "</table>\n",
       "</div>"
      ],
      "text/plain": [
       "     Month  Milk\n",
       "0  1962-01   589\n",
       "1  1962-02   561\n",
       "2  1962-03   640\n",
       "3  1962-04   656\n",
       "4  1962-05   727"
      ]
     },
     "execution_count": 25,
     "metadata": {},
     "output_type": "execute_result"
    }
   ],
   "source": [
    "milk = pd.read_csv(r'D:\\workspace\\MachineLearning\\Datasets\\Datasets\\monthly-milk-production-pounds-p.csv')\n",
    "milk.head()"
   ]
  },
  {
   "cell_type": "code",
   "execution_count": 26,
   "id": "d9d69911",
   "metadata": {},
   "outputs": [
    {
     "data": {
      "text/plain": [
       "((168,), (156,), (12,))"
      ]
     },
     "execution_count": 26,
     "metadata": {},
     "output_type": "execute_result"
    }
   ],
   "source": [
    "y = milk['Milk']\n",
    "y_train = y.iloc[:-12]\n",
    "y_test = y.iloc[-12:]\n",
    "y.shape, y_train.shape, y_test.shape"
   ]
  },
  {
   "cell_type": "code",
   "execution_count": 27,
   "id": "a0a2c8c7",
   "metadata": {},
   "outputs": [
    {
     "name": "stdout",
     "output_type": "stream",
     "text": [
      "10.70297349963912\n"
     ]
    }
   ],
   "source": [
    "model = ARIMA(y_train, order=(1,1,1), seasonal_order=(1,1,1,12))\n",
    "model_fit = model.fit() \n",
    "y_pred = model_fit.predict(start=len(y_train), end=len(y_train)+len(y_test)-1)\n",
    "print(np.sqrt(mean_squared_error(y_test,y_pred)))"
   ]
  },
  {
   "cell_type": "code",
   "execution_count": 28,
   "id": "f4a27f38",
   "metadata": {},
   "outputs": [
    {
     "name": "stdout",
     "output_type": "stream",
     "text": [
      "Performing stepwise search to minimize aic\n",
      " ARIMA(2,1,2)(0,0,0)[0] intercept   : AIC=1593.690, Time=0.46 sec\n",
      " ARIMA(0,1,0)(0,0,0)[0] intercept   : AIC=1624.299, Time=0.02 sec\n",
      " ARIMA(1,1,0)(0,0,0)[0] intercept   : AIC=1626.095, Time=0.05 sec\n",
      " ARIMA(0,1,1)(0,0,0)[0] intercept   : AIC=1626.164, Time=0.08 sec\n",
      " ARIMA(0,1,0)(0,0,0)[0]             : AIC=1622.458, Time=0.01 sec\n",
      " ARIMA(1,1,2)(0,0,0)[0] intercept   : AIC=1604.395, Time=0.22 sec\n",
      " ARIMA(2,1,1)(0,0,0)[0] intercept   : AIC=1618.644, Time=0.19 sec\n",
      " ARIMA(3,1,2)(0,0,0)[0] intercept   : AIC=inf, Time=0.51 sec\n",
      " ARIMA(2,1,3)(0,0,0)[0] intercept   : AIC=1572.383, Time=0.57 sec\n",
      " ARIMA(1,1,3)(0,0,0)[0] intercept   : AIC=inf, Time=0.40 sec\n",
      " ARIMA(3,1,3)(0,0,0)[0] intercept   : AIC=inf, Time=0.62 sec\n",
      " ARIMA(2,1,4)(0,0,0)[0] intercept   : AIC=inf, Time=0.83 sec\n",
      " ARIMA(1,1,4)(0,0,0)[0] intercept   : AIC=1561.864, Time=0.82 sec\n",
      " ARIMA(0,1,4)(0,0,0)[0] intercept   : AIC=inf, Time=0.69 sec\n",
      " ARIMA(1,1,5)(0,0,0)[0] intercept   : AIC=inf, Time=0.79 sec\n",
      " ARIMA(0,1,3)(0,0,0)[0] intercept   : AIC=inf, Time=0.33 sec\n",
      " ARIMA(0,1,5)(0,0,0)[0] intercept   : AIC=inf, Time=0.73 sec\n",
      " ARIMA(2,1,5)(0,0,0)[0] intercept   : AIC=inf, Time=0.96 sec\n",
      " ARIMA(1,1,4)(0,0,0)[0]             : AIC=1570.436, Time=0.64 sec\n",
      "\n",
      "Best model:  ARIMA(1,1,4)(0,0,0)[0] intercept\n",
      "Total fit time: 8.950 seconds\n"
     ]
    }
   ],
   "source": [
    "model = auto_arima(y_train, trace=True, error_action='ignore', suppress_warnings=True)"
   ]
  },
  {
   "cell_type": "code",
   "execution_count": 29,
   "id": "00b86a8b",
   "metadata": {},
   "outputs": [
    {
     "data": {
      "text/plain": [
       "57.74978401293764"
      ]
     },
     "execution_count": 29,
     "metadata": {},
     "output_type": "execute_result"
    }
   ],
   "source": [
    "y_pred = model.predict(n_periods=len(y_test))\n",
    "np.sqrt(mean_squared_error(y_test,y_pred))"
   ]
  },
  {
   "cell_type": "code",
   "execution_count": 30,
   "id": "65e343fc",
   "metadata": {},
   "outputs": [
    {
     "name": "stdout",
     "output_type": "stream",
     "text": [
      "Performing stepwise search to minimize aic\n",
      " ARIMA(2,0,2)(1,1,1)[12] intercept   : AIC=1000.136, Time=1.29 sec\n",
      " ARIMA(0,0,0)(0,1,0)[12] intercept   : AIC=1218.095, Time=0.03 sec\n",
      " ARIMA(1,0,0)(1,1,0)[12] intercept   : AIC=1015.855, Time=0.32 sec\n",
      " ARIMA(0,0,1)(0,1,1)[12] intercept   : AIC=1104.312, Time=0.29 sec\n",
      " ARIMA(0,0,0)(0,1,0)[12]             : AIC=1349.320, Time=0.02 sec\n",
      " ARIMA(2,0,2)(0,1,1)[12] intercept   : AIC=998.169, Time=0.96 sec\n",
      " ARIMA(2,0,2)(0,1,0)[12] intercept   : AIC=1038.230, Time=0.35 sec\n",
      " ARIMA(2,0,2)(0,1,2)[12] intercept   : AIC=1000.125, Time=1.81 sec\n",
      " ARIMA(2,0,2)(1,1,0)[12] intercept   : AIC=1012.395, Time=0.87 sec\n",
      " ARIMA(2,0,2)(1,1,2)[12] intercept   : AIC=inf, Time=3.16 sec\n",
      " ARIMA(1,0,2)(0,1,1)[12] intercept   : AIC=996.457, Time=0.63 sec\n",
      " ARIMA(1,0,2)(0,1,0)[12] intercept   : AIC=1036.989, Time=0.21 sec\n",
      " ARIMA(1,0,2)(1,1,1)[12] intercept   : AIC=998.423, Time=0.65 sec\n",
      " ARIMA(1,0,2)(0,1,2)[12] intercept   : AIC=998.411, Time=1.15 sec\n",
      " ARIMA(1,0,2)(1,1,0)[12] intercept   : AIC=1010.988, Time=0.57 sec\n",
      " ARIMA(1,0,2)(1,1,2)[12] intercept   : AIC=inf, Time=2.65 sec\n",
      " ARIMA(0,0,2)(0,1,1)[12] intercept   : AIC=1070.556, Time=0.51 sec\n",
      " ARIMA(1,0,1)(0,1,1)[12] intercept   : AIC=995.011, Time=0.40 sec\n",
      " ARIMA(1,0,1)(0,1,0)[12] intercept   : AIC=1035.965, Time=0.13 sec\n",
      " ARIMA(1,0,1)(1,1,1)[12] intercept   : AIC=996.988, Time=0.62 sec\n",
      " ARIMA(1,0,1)(0,1,2)[12] intercept   : AIC=996.980, Time=0.84 sec\n",
      " ARIMA(1,0,1)(1,1,0)[12] intercept   : AIC=1010.514, Time=0.43 sec\n",
      " ARIMA(1,0,1)(1,1,2)[12] intercept   : AIC=inf, Time=2.32 sec\n",
      " ARIMA(1,0,0)(0,1,1)[12] intercept   : AIC=999.197, Time=0.32 sec\n",
      " ARIMA(2,0,1)(0,1,1)[12] intercept   : AIC=996.773, Time=0.61 sec\n",
      " ARIMA(0,0,0)(0,1,1)[12] intercept   : AIC=1203.992, Time=0.20 sec\n",
      " ARIMA(2,0,0)(0,1,1)[12] intercept   : AIC=994.889, Time=0.39 sec\n",
      " ARIMA(2,0,0)(0,1,0)[12] intercept   : AIC=1035.695, Time=0.14 sec\n",
      " ARIMA(2,0,0)(1,1,1)[12] intercept   : AIC=996.861, Time=0.58 sec\n",
      " ARIMA(2,0,0)(0,1,2)[12] intercept   : AIC=996.851, Time=0.96 sec\n",
      " ARIMA(2,0,0)(1,1,0)[12] intercept   : AIC=1009.969, Time=0.47 sec\n",
      " ARIMA(2,0,0)(1,1,2)[12] intercept   : AIC=inf, Time=2.24 sec\n",
      " ARIMA(3,0,0)(0,1,1)[12] intercept   : AIC=996.636, Time=0.55 sec\n",
      " ARIMA(3,0,1)(0,1,1)[12] intercept   : AIC=994.862, Time=1.02 sec\n",
      " ARIMA(3,0,1)(0,1,0)[12] intercept   : AIC=inf, Time=0.58 sec\n",
      " ARIMA(3,0,1)(1,1,1)[12] intercept   : AIC=996.844, Time=1.42 sec\n",
      " ARIMA(3,0,1)(0,1,2)[12] intercept   : AIC=996.838, Time=2.03 sec\n",
      " ARIMA(3,0,1)(1,1,0)[12] intercept   : AIC=1008.914, Time=1.37 sec\n",
      " ARIMA(3,0,1)(1,1,2)[12] intercept   : AIC=inf, Time=2.82 sec\n",
      " ARIMA(4,0,1)(0,1,1)[12] intercept   : AIC=996.812, Time=1.53 sec\n",
      " ARIMA(3,0,2)(0,1,1)[12] intercept   : AIC=996.859, Time=1.67 sec\n",
      " ARIMA(4,0,0)(0,1,1)[12] intercept   : AIC=996.338, Time=0.53 sec\n",
      " ARIMA(4,0,2)(0,1,1)[12] intercept   : AIC=998.722, Time=1.67 sec\n",
      " ARIMA(3,0,1)(0,1,1)[12]             : AIC=998.116, Time=0.70 sec\n",
      "\n",
      "Best model:  ARIMA(3,0,1)(0,1,1)[12] intercept\n",
      "Total fit time: 42.111 seconds\n"
     ]
    }
   ],
   "source": [
    "s_model = auto_arima(y_train, trace=True, error_action='ignore', suppress_warnings=True, seasonal=True, m=12)"
   ]
  },
  {
   "cell_type": "code",
   "execution_count": 31,
   "id": "f1e40f70",
   "metadata": {},
   "outputs": [
    {
     "data": {
      "text/plain": [
       "13.94113112358653"
      ]
     },
     "execution_count": 31,
     "metadata": {},
     "output_type": "execute_result"
    }
   ],
   "source": [
    "y_pred = s_model.predict(n_periods=len(y_test))\n",
    "y_pred\n",
    "np.sqrt(mean_squared_error(y_test, y_pred))"
   ]
  },
  {
   "cell_type": "markdown",
   "id": "85199adb",
   "metadata": {},
   "source": [
    "#### ARIMA SARIMA on monthly_traffic_fatalities"
   ]
  },
  {
   "cell_type": "code",
   "execution_count": 35,
   "id": "b5f73f8b",
   "metadata": {},
   "outputs": [
    {
     "data": {
      "text/plain": [
       "((180,), (168,), (12,))"
      ]
     },
     "execution_count": 35,
     "metadata": {},
     "output_type": "execute_result"
    }
   ],
   "source": [
    "traffic = pd.read_csv(r'D:\\workspace\\MachineLearning\\Datasets\\Datasets\\monthly-traffic-fatalities-in-on.csv', sep=';')\n",
    "traffic.head()\n",
    "y = traffic['fatalities']\n",
    "y_train = y.iloc[:-12]\n",
    "y_test = y.iloc[-12:]\n",
    "y.shape, y_train.shape, y_test.shape"
   ]
  },
  {
   "cell_type": "code",
   "execution_count": 36,
   "id": "598d83b1",
   "metadata": {},
   "outputs": [
    {
     "name": "stdout",
     "output_type": "stream",
     "text": [
      "25.7479925790974\n"
     ]
    }
   ],
   "source": [
    "model = ARIMA(y_train, order=(1,1,1), seasonal_order=(1,1,1,12))\n",
    "model_fit = model.fit() \n",
    "y_pred = model_fit.predict(start=len(y_train), end=len(y_train)+len(y_test)-1)\n",
    "print(np.sqrt(mean_squared_error(y_test,y_pred)))"
   ]
  },
  {
   "cell_type": "code",
   "execution_count": 37,
   "id": "299a10f8",
   "metadata": {},
   "outputs": [
    {
     "name": "stdout",
     "output_type": "stream",
     "text": [
      "Performing stepwise search to minimize aic\n",
      " ARIMA(2,1,2)(0,0,0)[0] intercept   : AIC=1585.839, Time=0.42 sec\n",
      " ARIMA(0,1,0)(0,0,0)[0] intercept   : AIC=1586.576, Time=0.02 sec\n",
      " ARIMA(1,1,0)(0,0,0)[0] intercept   : AIC=1587.171, Time=0.05 sec\n",
      " ARIMA(0,1,1)(0,0,0)[0] intercept   : AIC=1587.504, Time=0.06 sec\n",
      " ARIMA(0,1,0)(0,0,0)[0]             : AIC=1584.643, Time=0.01 sec\n",
      " ARIMA(1,1,1)(0,0,0)[0] intercept   : AIC=1587.437, Time=0.10 sec\n",
      "\n",
      "Best model:  ARIMA(0,1,0)(0,0,0)[0]          \n",
      "Total fit time: 0.668 seconds\n"
     ]
    }
   ],
   "source": [
    "model = auto_arima(y_train, trace=True, error_action='ignore', suppress_warnings=True)"
   ]
  },
  {
   "cell_type": "code",
   "execution_count": 38,
   "id": "f5ea4edc",
   "metadata": {},
   "outputs": [
    {
     "data": {
      "text/plain": [
       "39.738730058554545"
      ]
     },
     "execution_count": 38,
     "metadata": {},
     "output_type": "execute_result"
    }
   ],
   "source": [
    "y_pred = model.predict(n_periods=len(y_test))\n",
    "np.sqrt(mean_squared_error(y_test,y_pred))"
   ]
  },
  {
   "cell_type": "code",
   "execution_count": 39,
   "id": "a819e31a",
   "metadata": {},
   "outputs": [
    {
     "name": "stdout",
     "output_type": "stream",
     "text": [
      "Performing stepwise search to minimize aic\n",
      " ARIMA(2,1,2)(1,0,1)[12] intercept   : AIC=inf, Time=1.56 sec\n",
      " ARIMA(0,1,0)(0,0,0)[12] intercept   : AIC=1586.576, Time=0.02 sec\n",
      " ARIMA(1,1,0)(1,0,0)[12] intercept   : AIC=1529.884, Time=0.29 sec\n",
      " ARIMA(0,1,1)(0,0,1)[12] intercept   : AIC=1557.310, Time=0.18 sec\n",
      " ARIMA(0,1,0)(0,0,0)[12]             : AIC=1584.643, Time=0.03 sec\n",
      " ARIMA(1,1,0)(0,0,0)[12] intercept   : AIC=1587.171, Time=0.07 sec\n",
      " ARIMA(1,1,0)(2,0,0)[12] intercept   : AIC=1516.360, Time=0.65 sec\n",
      " ARIMA(1,1,0)(2,0,1)[12] intercept   : AIC=inf, Time=1.79 sec\n",
      " ARIMA(1,1,0)(1,0,1)[12] intercept   : AIC=inf, Time=0.90 sec\n",
      " ARIMA(0,1,0)(2,0,0)[12] intercept   : AIC=1542.216, Time=0.39 sec\n",
      " ARIMA(2,1,0)(2,0,0)[12] intercept   : AIC=1513.576, Time=0.83 sec\n",
      " ARIMA(2,1,0)(1,0,0)[12] intercept   : AIC=1529.581, Time=0.41 sec\n",
      " ARIMA(2,1,0)(2,0,1)[12] intercept   : AIC=inf, Time=1.93 sec\n",
      " ARIMA(2,1,0)(1,0,1)[12] intercept   : AIC=1492.844, Time=0.69 sec\n",
      " ARIMA(2,1,0)(0,0,1)[12] intercept   : AIC=1558.108, Time=0.20 sec\n",
      " ARIMA(2,1,0)(1,0,2)[12] intercept   : AIC=inf, Time=1.55 sec\n",
      " ARIMA(2,1,0)(0,0,0)[12] intercept   : AIC=1584.984, Time=0.13 sec\n",
      " ARIMA(2,1,0)(0,0,2)[12] intercept   : AIC=1542.576, Time=0.49 sec\n",
      " ARIMA(2,1,0)(2,0,2)[12] intercept   : AIC=inf, Time=2.02 sec\n",
      " ARIMA(3,1,0)(1,0,1)[12] intercept   : AIC=1493.940, Time=0.84 sec\n",
      " ARIMA(2,1,1)(1,0,1)[12] intercept   : AIC=inf, Time=1.01 sec\n",
      " ARIMA(1,1,1)(1,0,1)[12] intercept   : AIC=1468.248, Time=1.04 sec\n",
      " ARIMA(1,1,1)(0,0,1)[12] intercept   : AIC=1558.201, Time=0.31 sec\n",
      " ARIMA(1,1,1)(1,0,0)[12] intercept   : AIC=inf, Time=0.76 sec\n",
      " ARIMA(1,1,1)(2,0,1)[12] intercept   : AIC=inf, Time=2.01 sec\n",
      " ARIMA(1,1,1)(1,0,2)[12] intercept   : AIC=inf, Time=2.13 sec\n",
      " ARIMA(1,1,1)(0,0,0)[12] intercept   : AIC=1587.437, Time=0.13 sec\n",
      " ARIMA(1,1,1)(0,0,2)[12] intercept   : AIC=inf, Time=1.40 sec\n",
      " ARIMA(1,1,1)(2,0,0)[12] intercept   : AIC=inf, Time=1.55 sec\n",
      " ARIMA(1,1,1)(2,0,2)[12] intercept   : AIC=inf, Time=2.17 sec\n",
      " ARIMA(0,1,1)(1,0,1)[12] intercept   : AIC=1487.456, Time=0.45 sec\n",
      " ARIMA(1,1,2)(1,0,1)[12] intercept   : AIC=inf, Time=0.73 sec\n",
      " ARIMA(0,1,0)(1,0,1)[12] intercept   : AIC=inf, Time=0.66 sec\n",
      " ARIMA(0,1,2)(1,0,1)[12] intercept   : AIC=inf, Time=1.20 sec\n",
      " ARIMA(1,1,1)(1,0,1)[12]             : AIC=1468.319, Time=0.71 sec\n",
      "\n",
      "Best model:  ARIMA(1,1,1)(1,0,1)[12] intercept\n",
      "Total fit time: 31.273 seconds\n"
     ]
    }
   ],
   "source": [
    "s_model = auto_arima(y_train, trace=True, error_action='ignore', suppress_warnings=True, seasonal=True, m=12)"
   ]
  },
  {
   "cell_type": "code",
   "execution_count": 40,
   "id": "d0570726",
   "metadata": {},
   "outputs": [
    {
     "data": {
      "text/plain": [
       "23.114648468698196"
      ]
     },
     "execution_count": 40,
     "metadata": {},
     "output_type": "execute_result"
    }
   ],
   "source": [
    "y_pred = s_model.predict(n_periods=len(y_test))\n",
    "y_pred\n",
    "np.sqrt(mean_squared_error(y_test, y_pred))"
   ]
  },
  {
   "cell_type": "code",
   "execution_count": null,
   "id": "0fcc706e",
   "metadata": {},
   "outputs": [],
   "source": []
  }
 ],
 "metadata": {
  "kernelspec": {
   "display_name": "base",
   "language": "python",
   "name": "python3"
  },
  "language_info": {
   "codemirror_mode": {
    "name": "ipython",
    "version": 3
   },
   "file_extension": ".py",
   "mimetype": "text/x-python",
   "name": "python",
   "nbconvert_exporter": "python",
   "pygments_lexer": "ipython3",
   "version": "3.8.5"
  }
 },
 "nbformat": 4,
 "nbformat_minor": 5
}
