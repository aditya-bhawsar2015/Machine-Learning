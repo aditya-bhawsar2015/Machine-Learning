{
 "cells": [
  {
   "cell_type": "code",
   "execution_count": 2,
   "id": "cdd0bd32-0eea-4578-8e31-e153404e5384",
   "metadata": {},
   "outputs": [],
   "source": [
    "import pandas as pd\n",
    "import numpy as np\n",
    "from sklearn.linear_model import LinearRegression\n",
    "from sklearn.model_selection import train_test_split\n",
    "from sklearn.metrics import mean_squared_error, mean_absolute_error, r2_score\n",
    "import os"
   ]
  },
  {
   "cell_type": "code",
   "execution_count": 5,
   "id": "8de08fc4-299a-47c5-bc78-7b720f371d5d",
   "metadata": {},
   "outputs": [
    {
     "data": {
      "text/html": [
       "<div>\n",
       "<style scoped>\n",
       "    .dataframe tbody tr th:only-of-type {\n",
       "        vertical-align: middle;\n",
       "    }\n",
       "\n",
       "    .dataframe tbody tr th {\n",
       "        vertical-align: top;\n",
       "    }\n",
       "\n",
       "    .dataframe thead th {\n",
       "        text-align: right;\n",
       "    }\n",
       "</style>\n",
       "<table border=\"1\" class=\"dataframe\">\n",
       "  <thead>\n",
       "    <tr style=\"text-align: right;\">\n",
       "      <th></th>\n",
       "      <th>Salary</th>\n",
       "      <th>Years_Previous_Experience</th>\n",
       "      <th>Years Employed</th>\n",
       "      <th>Years_Education</th>\n",
       "      <th>Gender</th>\n",
       "      <th>Department</th>\n",
       "      <th>Number_Supervised</th>\n",
       "    </tr>\n",
       "  </thead>\n",
       "  <tbody>\n",
       "    <tr>\n",
       "      <th>0</th>\n",
       "      <td>32782</td>\n",
       "      <td>1</td>\n",
       "      <td>0</td>\n",
       "      <td>7</td>\n",
       "      <td>Male</td>\n",
       "      <td>A</td>\n",
       "      <td>0</td>\n",
       "    </tr>\n",
       "    <tr>\n",
       "      <th>1</th>\n",
       "      <td>32920</td>\n",
       "      <td>3</td>\n",
       "      <td>15</td>\n",
       "      <td>9</td>\n",
       "      <td>Female</td>\n",
       "      <td>A</td>\n",
       "      <td>4</td>\n",
       "    </tr>\n",
       "    <tr>\n",
       "      <th>2</th>\n",
       "      <td>29548</td>\n",
       "      <td>6</td>\n",
       "      <td>5</td>\n",
       "      <td>1</td>\n",
       "      <td>Male</td>\n",
       "      <td>A</td>\n",
       "      <td>0</td>\n",
       "    </tr>\n",
       "  </tbody>\n",
       "</table>\n",
       "</div>"
      ],
      "text/plain": [
       "   Salary  Years_Previous_Experience  Years Employed  Years_Education  Gender  \\\n",
       "0   32782                          1               0                7    Male   \n",
       "1   32920                          3              15                9  Female   \n",
       "2   29548                          6               5                1    Male   \n",
       "\n",
       "  Department  Number_Supervised  \n",
       "0          A                  0  \n",
       "1          A                  4  \n",
       "2          A                  0  "
      ]
     },
     "execution_count": 5,
     "metadata": {},
     "output_type": "execute_result"
    }
   ],
   "source": [
    "exp_sals = pd.read_csv(\"Datasets/Datasets/Exp_Salaries.csv\")\n",
    "exp_sals.head(3)"
   ]
  },
  {
   "cell_type": "code",
   "execution_count": null,
   "id": "afb47195-a9ed-4130-9fa4-5120c73e2b48",
   "metadata": {},
   "outputs": [],
   "source": [
    "train, test = train_test_split(exp_sals, test_size=0.3, random_state=25)"
   ]
  },
  {
   "cell_type": "code",
   "execution_count": null,
   "id": "4e313bbf-17cb-40e4-aa0c-c7966873607b",
   "metadata": {},
   "outputs": [
    {
     "data": {
      "text/plain": [
       "Index(['Salary', 'Years_Previous_Experience', 'Years Employed',\n",
       "       'Years_Education', 'Gender', 'Department', 'Number_Supervised'],\n",
       "      dtype='object')"
      ]
     },
     "execution_count": 5,
     "metadata": {},
     "output_type": "execute_result"
    }
   ],
   "source": [
    "train.columns"
   ]
  },
  {
   "cell_type": "code",
   "execution_count": null,
   "id": "bffe71cd-9f19-475e-8579-31bd58ccb175",
   "metadata": {},
   "outputs": [
    {
     "data": {
      "text/plain": [
       "Index(['Years_Previous_Experience', 'Years Employed', 'Years_Education',\n",
       "       'Number_Supervised'],\n",
       "      dtype='object')"
      ]
     },
     "execution_count": 6,
     "metadata": {},
     "output_type": "execute_result"
    }
   ],
   "source": [
    "X_train = train.drop(['Gender', 'Department','Salary'], axis=1)\n",
    "y_train = train['Salary']\n",
    "X_test = test.drop(['Gender', 'Department','Salary'], axis=1)\n",
    "y_test = test['Salary']\n",
    "X_train.columns"
   ]
  },
  {
   "cell_type": "code",
   "execution_count": null,
   "id": "bd134b5f-f153-4ffd-bcb0-7fa96b01f7f9",
   "metadata": {},
   "outputs": [
    {
     "data": {
      "text/plain": [
       "(array([   5.06730251,  729.64208918, 1488.0137908 ,  178.41380514]),\n",
       " 23598.11334443491)"
      ]
     },
     "execution_count": 7,
     "metadata": {},
     "output_type": "execute_result"
    }
   ],
   "source": [
    "lr = LinearRegression()\n",
    "lr.fit(X_train, y_train)\n",
    "lr.coef_, lr.intercept_"
   ]
  },
  {
   "cell_type": "code",
   "execution_count": null,
   "id": "4a44b095-5a9a-4759-9cd8-bca870a90cb5",
   "metadata": {},
   "outputs": [
    {
     "data": {
      "text/plain": [
       "35430.451779954914"
      ]
     },
     "execution_count": 8,
     "metadata": {},
     "output_type": "execute_result"
    }
   ],
   "source": [
    "v1 = 23598.11334443491 + 5.06730251*6  + 729.64208918*5  + 1488.0137908*5 +  4*178.41380514\n",
    "v1"
   ]
  },
  {
   "cell_type": "code",
   "execution_count": null,
   "id": "5ebd5aba-5406-485f-a3fe-e4d5de4dbfb0",
   "metadata": {},
   "outputs": [
    {
     "data": {
      "text/plain": [
       "36160.093869134915"
      ]
     },
     "execution_count": 9,
     "metadata": {},
     "output_type": "execute_result"
    }
   ],
   "source": [
    "v2 = 23598.11334443491 + 5.06730251*6  + 729.64208918*6  + 1488.0137908*5 +  4*178.41380514\n",
    "v2"
   ]
  },
  {
   "cell_type": "code",
   "execution_count": null,
   "id": "e201f949-b93f-4bf0-a47e-7941ea1e6e94",
   "metadata": {},
   "outputs": [
    {
     "data": {
      "text/plain": [
       "729.6420891800008"
      ]
     },
     "execution_count": 10,
     "metadata": {},
     "output_type": "execute_result"
    }
   ],
   "source": [
    "v2-v1"
   ]
  },
  {
   "cell_type": "code",
   "execution_count": null,
   "id": "6a4f189d-1889-4413-a98c-22be11d27b05",
   "metadata": {},
   "outputs": [
    {
     "data": {
      "text/plain": [
       "Index(['Years_Previous_Experience', 'Years Employed', 'Years_Education',\n",
       "       'Number_Supervised'],\n",
       "      dtype='object')"
      ]
     },
     "execution_count": 11,
     "metadata": {},
     "output_type": "execute_result"
    }
   ],
   "source": [
    "X_train.columns"
   ]
  },
  {
   "cell_type": "code",
   "execution_count": null,
   "id": "59c7268f-77eb-4821-bdac-5fd36aea140f",
   "metadata": {},
   "outputs": [
    {
     "data": {
      "text/html": [
       "<div>\n",
       "<style scoped>\n",
       "    .dataframe tbody tr th:only-of-type {\n",
       "        vertical-align: middle;\n",
       "    }\n",
       "\n",
       "    .dataframe tbody tr th {\n",
       "        vertical-align: top;\n",
       "    }\n",
       "\n",
       "    .dataframe thead th {\n",
       "        text-align: right;\n",
       "    }\n",
       "</style>\n",
       "<table border=\"1\" class=\"dataframe\">\n",
       "  <thead>\n",
       "    <tr style=\"text-align: right;\">\n",
       "      <th></th>\n",
       "      <th>Years_Previous_Experience</th>\n",
       "      <th>Years Employed</th>\n",
       "      <th>Years_Education</th>\n",
       "      <th>Number_Supervised</th>\n",
       "    </tr>\n",
       "  </thead>\n",
       "  <tbody>\n",
       "    <tr>\n",
       "      <th>0</th>\n",
       "      <td>6</td>\n",
       "      <td>5</td>\n",
       "      <td>5</td>\n",
       "      <td>4</td>\n",
       "    </tr>\n",
       "    <tr>\n",
       "      <th>1</th>\n",
       "      <td>6</td>\n",
       "      <td>6</td>\n",
       "      <td>5</td>\n",
       "      <td>4</td>\n",
       "    </tr>\n",
       "  </tbody>\n",
       "</table>\n",
       "</div>"
      ],
      "text/plain": [
       "   Years_Previous_Experience  Years Employed  Years_Education  \\\n",
       "0                          6               5                5   \n",
       "1                          6               6                5   \n",
       "\n",
       "   Number_Supervised  \n",
       "0                  4  \n",
       "1                  4  "
      ]
     },
     "execution_count": 12,
     "metadata": {},
     "output_type": "execute_result"
    }
   ],
   "source": [
    "tst = pd.DataFrame({'Years_Previous_Experience':[6,6],\n",
    "                    'Years Employed':[5,6],\n",
    "                    'Years_Education':[5,5],\n",
    "                    'Number_Supervised':[4,4]})\n",
    "tst\n",
    "#23598.11334443491 + 5.06730251*tst['Years_Previous_Experience'] + 729.64208918*tst['Years Employed'] + 1488.0137908*tst['Years_Education'] + 178.41380514*tst['Number_Supervised']"
   ]
  },
  {
   "cell_type": "code",
   "execution_count": null,
   "id": "e8e178df-3f5c-4e2c-82e7-0a63be9e025d",
   "metadata": {},
   "outputs": [
    {
     "data": {
      "text/plain": [
       "array([35430.45177996, 36160.09386915])"
      ]
     },
     "execution_count": 13,
     "metadata": {},
     "output_type": "execute_result"
    }
   ],
   "source": [
    "lr.predict(tst)"
   ]
  },
  {
   "cell_type": "code",
   "execution_count": null,
   "id": "285cc0ae-5167-475d-859e-010ffc679e44",
   "metadata": {},
   "outputs": [
    {
     "data": {
      "text/plain": [
       "array([36494.04413059, 47986.65962758, 33706.56495916, 32778.2398548 ,\n",
       "       45343.61347939, 33218.64816358, 45868.57131471, 43658.59087604,\n",
       "       39868.37167873, 28764.7413962 , 51302.48973421, 37034.35284853,\n",
       "       51396.30931819, 47112.90715931])"
      ]
     },
     "execution_count": 14,
     "metadata": {},
     "output_type": "execute_result"
    }
   ],
   "source": [
    "y_pred = lr.predict(X_test)\n",
    "y_pred"
   ]
  },
  {
   "cell_type": "code",
   "execution_count": null,
   "id": "142a8e07-4660-4e53-9971-34f227f63b69",
   "metadata": {},
   "outputs": [
    {
     "data": {
      "text/plain": [
       "array([36431, 38791, 34987, 35487, 56326, 34632, 51698, 46211, 36578,\n",
       "       29548, 53234, 35468, 41889, 48695], dtype=int64)"
      ]
     },
     "execution_count": 15,
     "metadata": {},
     "output_type": "execute_result"
    }
   ],
   "source": [
    "y_test.values"
   ]
  },
  {
   "cell_type": "code",
   "execution_count": null,
   "id": "7f81e536-c9f1-48a7-91bc-8954de4530b0",
   "metadata": {},
   "outputs": [
    {
     "data": {
      "text/plain": [
       "3763.3121904445934"
      ]
     },
     "execution_count": 16,
     "metadata": {},
     "output_type": "execute_result"
    }
   ],
   "source": [
    "np.mean(np.absolute(y_test - y_pred))"
   ]
  },
  {
   "cell_type": "code",
   "execution_count": null,
   "id": "a18b5b04-9a18-4bfe-8a58-88a614b41e5c",
   "metadata": {},
   "outputs": [
    {
     "name": "stdout",
     "output_type": "stream",
     "text": [
      "3763.3121904445934\n",
      "26226043.957655247\n",
      "0.5910276432753675\n"
     ]
    }
   ],
   "source": [
    "from sklearn.metrics import mean_absolute_error, mean_squared_error, r2_score\n",
    "print(mean_absolute_error(y_test, y_pred))\n",
    "print(mean_squared_error(y_test, y_pred))\n",
    "print(r2_score(y_test, y_pred))"
   ]
  },
  {
   "cell_type": "code",
   "execution_count": null,
   "id": "c44aadda-892d-4151-b016-76c228075d24",
   "metadata": {},
   "outputs": [
    {
     "name": "stdout",
     "output_type": "stream",
     "text": [
      "3759.6769859031697\n",
      "26258522.361314584\n",
      "0.5905211708043895\n"
     ]
    }
   ],
   "source": [
    "from sklearn.linear_model import Ridge\n",
    "ridge = Ridge()\n",
    "ridge.fit(X_train, y_train)\n",
    "y_pred = ridge.predict(X_test)\n",
    "print(mean_absolute_error(y_test, y_pred))\n",
    "print(mean_squared_error(y_test, y_pred))\n",
    "print(r2_score(y_test, y_pred))"
   ]
  },
  {
   "cell_type": "code",
   "execution_count": null,
   "id": "03e0b9f9-cdda-434b-9c94-e32c5da2335b",
   "metadata": {},
   "outputs": [
    {
     "name": "stdout",
     "output_type": "stream",
     "text": [
      "3763.2736572612275\n",
      "26224554.764620334\n",
      "0.5910508659461633\n"
     ]
    }
   ],
   "source": [
    "from sklearn.linear_model import Lasso\n",
    "lasso = Lasso()\n",
    "lasso.fit(X_train, y_train)\n",
    "y_pred = lasso.predict(X_test)\n",
    "print(mean_absolute_error(y_test, y_pred))\n",
    "print(mean_squared_error(y_test, y_pred))\n",
    "print(r2_score(y_test, y_pred))"
   ]
  },
  {
   "cell_type": "code",
   "execution_count": null,
   "id": "64aa6f6c-a255-4986-9f8a-134e5e68d38a",
   "metadata": {},
   "outputs": [],
   "source": []
  }
 ],
 "metadata": {
  "kernelspec": {
   "display_name": "Python 3",
   "language": "python",
   "name": "python3"
  },
  "language_info": {
   "codemirror_mode": {
    "name": "ipython",
    "version": 3
   },
   "file_extension": ".py",
   "mimetype": "text/x-python",
   "name": "python",
   "nbconvert_exporter": "python",
   "pygments_lexer": "ipython3",
   "version": "3.12.7"
  }
 },
 "nbformat": 4,
 "nbformat_minor": 5
}
