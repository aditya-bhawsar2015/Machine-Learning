{
 "cells": [
  {
   "cell_type": "code",
   "execution_count": 1,
   "id": "e0389a93",
   "metadata": {},
   "outputs": [
    {
     "name": "stderr",
     "output_type": "stream",
     "text": [
      "<frozen importlib._bootstrap>:219: RuntimeWarning: numpy.ufunc size changed, may indicate binary incompatibility. Expected 216 from C header, got 232 from PyObject\n"
     ]
    }
   ],
   "source": [
    "import pandas as pd\n",
    "import numpy as np\n",
    "import matplotlib.pyplot as plt\n",
    "import seaborn as sns\n",
    "from statsmodels.tsa.stattools import adfuller\n",
    "# from statsmodels.tsa.api import Holt\n",
    "from sklearn.metrics import mean_squared_error\n",
    "from tqdm import tqdm"
   ]
  },
  {
   "cell_type": "code",
   "execution_count": 2,
   "id": "9ff89778",
   "metadata": {},
   "outputs": [],
   "source": [
    "df = pd.read_csv('D:\\workspace\\MachineLearning\\Datasets\\Datasets\\FMAC-HPI_24420.csv')\n",
    "y = df['NSA Value']"
   ]
  },
  {
   "cell_type": "code",
   "execution_count": 3,
   "id": "d22e0cf3",
   "metadata": {},
   "outputs": [
    {
     "name": "stdout",
     "output_type": "stream",
     "text": [
      "Time series is not stationary.\n"
     ]
    }
   ],
   "source": [
    "results = adfuller(y, maxlag=10)\n",
    "if results[1] < 0.05:\n",
    "    print(\"Time series is stationary.\")\n",
    "else:\n",
    "    print(\"Time series is not stationary.\")"
   ]
  },
  {
   "cell_type": "code",
   "execution_count": 5,
   "id": "84bf48e3",
   "metadata": {},
   "outputs": [
    {
     "data": {
      "text/plain": [
       "0       24.739893\n",
       "1       25.266825\n",
       "2       25.765667\n",
       "3       26.212724\n",
       "4       26.628081\n",
       "          ...    \n",
       "526    206.807173\n",
       "527    206.300515\n",
       "528    206.872042\n",
       "529    208.166243\n",
       "530    210.049779\n",
       "Name: NSA Value, Length: 531, dtype: float64"
      ]
     },
     "execution_count": 5,
     "metadata": {},
     "output_type": "execute_result"
    }
   ],
   "source": [
    "y"
   ]
  },
  {
   "cell_type": "code",
   "execution_count": 4,
   "id": "b7080196",
   "metadata": {},
   "outputs": [
    {
     "data": {
      "text/plain": [
       "0           NaN\n",
       "1      0.526932\n",
       "2      0.498841\n",
       "3      0.447058\n",
       "4      0.415357\n",
       "         ...   \n",
       "526   -1.337388\n",
       "527   -0.506658\n",
       "528    0.571528\n",
       "529    1.294201\n",
       "530    1.883536\n",
       "Name: NSA Value, Length: 531, dtype: float64"
      ]
     },
     "execution_count": 4,
     "metadata": {},
     "output_type": "execute_result"
    }
   ],
   "source": [
    "y.diff()"
   ]
  },
  {
   "cell_type": "code",
   "execution_count": 6,
   "id": "83eb345d",
   "metadata": {},
   "outputs": [
    {
     "name": "stdout",
     "output_type": "stream",
     "text": [
      "Time series is not stationary.\n"
     ]
    }
   ],
   "source": [
    "diff1 = y.diff()[1:]\n",
    "results = adfuller(diff1, maxlag=10)\n",
    "if results[1] < 0.05:\n",
    "    print(\"Time series is stationary.\")\n",
    "else:\n",
    "    print(\"Time series is not stationary.\")"
   ]
  },
  {
   "cell_type": "code",
   "execution_count": 8,
   "id": "a468f422",
   "metadata": {},
   "outputs": [
    {
     "name": "stdout",
     "output_type": "stream",
     "text": [
      "Time series is stationary.\n"
     ]
    }
   ],
   "source": [
    "diff2 = diff1.diff()[1:]\n",
    "results = adfuller(diff2, maxlag=10)\n",
    "if results[1] < 0.05:\n",
    "    print(\"Time series is stationary.\")\n",
    "else:\n",
    "    print(\"Time series is not stationary.\")"
   ]
  },
  {
   "cell_type": "markdown",
   "id": "93116304",
   "metadata": {},
   "source": [
    "#### Airpassengers"
   ]
  },
  {
   "cell_type": "code",
   "execution_count": 10,
   "id": "51261187",
   "metadata": {},
   "outputs": [
    {
     "data": {
      "text/html": [
       "<div>\n",
       "<style scoped>\n",
       "    .dataframe tbody tr th:only-of-type {\n",
       "        vertical-align: middle;\n",
       "    }\n",
       "\n",
       "    .dataframe tbody tr th {\n",
       "        vertical-align: top;\n",
       "    }\n",
       "\n",
       "    .dataframe thead th {\n",
       "        text-align: right;\n",
       "    }\n",
       "</style>\n",
       "<table border=\"1\" class=\"dataframe\">\n",
       "  <thead>\n",
       "    <tr style=\"text-align: right;\">\n",
       "      <th></th>\n",
       "      <th>Month</th>\n",
       "      <th>Passengers</th>\n",
       "    </tr>\n",
       "  </thead>\n",
       "  <tbody>\n",
       "    <tr>\n",
       "      <th>0</th>\n",
       "      <td>1949-01</td>\n",
       "      <td>112</td>\n",
       "    </tr>\n",
       "    <tr>\n",
       "      <th>1</th>\n",
       "      <td>1949-02</td>\n",
       "      <td>118</td>\n",
       "    </tr>\n",
       "    <tr>\n",
       "      <th>2</th>\n",
       "      <td>1949-03</td>\n",
       "      <td>132</td>\n",
       "    </tr>\n",
       "    <tr>\n",
       "      <th>3</th>\n",
       "      <td>1949-04</td>\n",
       "      <td>129</td>\n",
       "    </tr>\n",
       "    <tr>\n",
       "      <th>4</th>\n",
       "      <td>1949-05</td>\n",
       "      <td>121</td>\n",
       "    </tr>\n",
       "  </tbody>\n",
       "</table>\n",
       "</div>"
      ],
      "text/plain": [
       "     Month  Passengers\n",
       "0  1949-01         112\n",
       "1  1949-02         118\n",
       "2  1949-03         132\n",
       "3  1949-04         129\n",
       "4  1949-05         121"
      ]
     },
     "execution_count": 10,
     "metadata": {},
     "output_type": "execute_result"
    }
   ],
   "source": [
    "air = pd.read_csv(r'D:\\workspace\\MachineLearning\\Datasets\\Datasets\\AirPassengers.csv')\n",
    "air.head()"
   ]
  },
  {
   "cell_type": "code",
   "execution_count": 11,
   "id": "e3484e61",
   "metadata": {},
   "outputs": [],
   "source": [
    "y = air['Passengers']"
   ]
  },
  {
   "cell_type": "code",
   "execution_count": 12,
   "id": "15dabe2b",
   "metadata": {},
   "outputs": [
    {
     "name": "stdout",
     "output_type": "stream",
     "text": [
      "Time series is not stationary.\n"
     ]
    }
   ],
   "source": [
    "results = adfuller(y, maxlag=10)\n",
    "if results[1] < 0.05:\n",
    "    print(\"Time series is stationary.\")\n",
    "else:\n",
    "    print(\"Time series is not stationary.\")"
   ]
  },
  {
   "cell_type": "code",
   "execution_count": 13,
   "id": "e975df62",
   "metadata": {},
   "outputs": [
    {
     "name": "stdout",
     "output_type": "stream",
     "text": [
      "Time series is stationary.\n"
     ]
    }
   ],
   "source": [
    "diff1 = y.diff()[1:]\n",
    "results = adfuller(diff1, maxlag=10)\n",
    "if results[1] < 0.05:\n",
    "    print(\"Time series is stationary.\")\n",
    "else:\n",
    "    print(\"Time series is not stationary.\")"
   ]
  },
  {
   "cell_type": "code",
   "execution_count": 16,
   "id": "6e518680",
   "metadata": {},
   "outputs": [
    {
     "data": {
      "image/png": "[encoded data removed]",
      "text/plain": [
       "<Figure size 432x288 with 1 Axes>"
      ]
     },
     "metadata": {
      "needs_background": "light"
     },
     "output_type": "display_data"
    }
   ],
   "source": [
    "plt.plot(y)\n",
    "plt.title('Without Differencing')\n",
    "plt.show()"
   ]
  },
  {
   "cell_type": "code",
   "execution_count": 18,
   "id": "a8adfa6c",
   "metadata": {},
   "outputs": [
    {
     "data": {
      "image/png": "[encoded data removed]",
      "text/plain": [
       "<Figure size 432x288 with 1 Axes>"
      ]
     },
     "metadata": {
      "needs_background": "light"
     },
     "output_type": "display_data"
    }
   ],
   "source": [
    "plt.plot(diff1)\n",
    "plt.title('With Differencing : 1st diff')\n",
    "plt.show()"
   ]
  },
  {
   "cell_type": "code",
   "execution_count": null,
   "id": "2a347bbf",
   "metadata": {},
   "outputs": [],
   "source": []
  }
 ],
 "metadata": {
  "kernelspec": {
   "display_name": "base",
   "language": "python",
   "name": "python3"
  },
  "language_info": {
   "codemirror_mode": {
    "name": "ipython",
    "version": 3
   },
   "file_extension": ".py",
   "mimetype": "text/x-python",
   "name": "python",
   "nbconvert_exporter": "python",
   "pygments_lexer": "ipython3",
   "version": "3.8.5"
  }
 },
 "nbformat": 4,
 "nbformat_minor": 5
}
